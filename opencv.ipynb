{
 "cells": [
  {
   "cell_type": "code",
   "execution_count": 5,
   "id": "ac17ffe1-4106-485e-a9f4-93fc70996123",
   "metadata": {},
   "outputs": [
    {
     "name": "stdout",
     "output_type": "stream",
     "text": [
      "Requirement already satisfied: opencv-python in c:\\users\\arham\\anaconda3\\lib\\site-packages (4.11.0.86)\n",
      "Requirement already satisfied: numpy>=1.21.2 in c:\\users\\arham\\anaconda3\\lib\\site-packages (from opencv-python) (1.26.4)\n"
     ]
    }
   ],
   "source": [
    "!pip install opencv-python"
   ]
  },
  {
   "cell_type": "code",
   "execution_count": 13,
   "id": "6790cfd8-5ac5-4e67-9984-83bd45ed0368",
   "metadata": {},
   "outputs": [],
   "source": [
    "import cv2\n",
    "\n",
    "cap = cv2.VideoCapture(0)\n",
    "cap.set(3,640)\n",
    "cap.set(4,480)\n",
    "\n",
    "while True:\n",
    "    success, img = cap.read()\n",
    "    cv2.imshow(\"WEBCAM\" , img)\n",
    "    if cv2.waitKey(1) & 0XFF == ord(\"w\"):\n",
    "        break\n"
   ]
  },
  {
   "cell_type": "code",
   "execution_count": 1,
   "id": "1b6a9875-d33a-4317-862e-89903b2ab93d",
   "metadata": {},
   "outputs": [],
   "source": [
    "import cv2\n",
    "\n",
    "\n",
    "img = cv2.imread(r'C:\\Users\\Arham\\OneDrive\\Pictures\\maybach.jpg')\n",
    "\n",
    "\n",
    "if img is None:\n",
    "    print(\"Error: Could not load the image. Check the file path and name.\")\n",
    "else:\n",
    "    cv2.imshow('Image', img)\n",
    "    cv2.waitKey(0) \n",
    "    cv2.destroyAllWindows()\n"
   ]
  },
  {
   "cell_type": "code",
   "execution_count": 7,
   "id": "85c5f40e-9d8b-4547-8379-4c4a2a5a3970",
   "metadata": {},
   "outputs": [],
   "source": [
    "import cv2\n",
    "\n",
    "\n",
    "img = cv2.imread(r'C:\\Users\\Arham\\OneDrive\\Pictures\\maybach.jpg')\n",
    "\n",
    "if img is None:\n",
    "    print(\"Error: Could not load the image. Check the file path and name.\")\n",
    "else:\n",
    "   \n",
    "    resized_img = cv2.resize(img, (0, 0), fx=0.5, fy=0.5)\n",
    "\n",
    "    \n",
    "    gray_img = cv2.cvtColor(resized_img, cv2.COLOR_BGR2GRAY)\n",
    "\n",
    "    \n",
    "    blurred_img = cv2.GaussianBlur(gray_img, (7, 7), 0)\n",
    "\n",
    "    \n",
    "    edges = cv2.Canny(blurred_img, 50, 150)\n",
    "\n",
    "    # Draw a rectangle (x1, y1) to (x2, y2) on the original resized image\n",
    "    cv2.rectangle(resized_img, (50, 50), (200, 150), (0, 255, 0), 3)  # Green border\n",
    "\n",
    "    \n",
    "    cv2.putText(resized_img, 'Maybach', (60, 140), cv2.FONT_HERSHEY_SIMPLEX, \n",
    "                0.9, (255, 0, 0), 2, cv2.LINE_AA) \n",
    "\n",
    "    cv2.imwrite(r'C:\\Users\\Arham\\OneDrive\\Pictures\\maybach_edges.png', edges)\n",
    "\n",
    "    \n",
    "    cv2.imshow('Original Resized Image with Drawing', resized_img)\n",
    "    cv2.imshow('Blurred Image', blurred_img)\n",
    "    cv2.imshow('Edge Detection (Canny)', edges)\n",
    "\n",
    "    cv2.waitKey(0)\n",
    "    cv2.destroyAllWindows()\n"
   ]
  },
  {
   "cell_type": "code",
   "execution_count": null,
   "id": "c0669afe-880d-44ee-819e-bcbadde3ebda",
   "metadata": {},
   "outputs": [],
   "source": []
  }
 ],
 "metadata": {
  "kernelspec": {
   "display_name": "Python [conda env:base] *",
   "language": "python",
   "name": "conda-base-py"
  },
  "language_info": {
   "codemirror_mode": {
    "name": "ipython",
    "version": 3
   },
   "file_extension": ".py",
   "mimetype": "text/x-python",
   "name": "python",
   "nbconvert_exporter": "python",
   "pygments_lexer": "ipython3",
   "version": "3.12.7"
  }
 },
 "nbformat": 4,
 "nbformat_minor": 5
}
